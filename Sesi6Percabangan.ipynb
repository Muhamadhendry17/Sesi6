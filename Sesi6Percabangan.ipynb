{
 "cells": [
  {
   "cell_type": "markdown",
   "id": "c81f7e02",
   "metadata": {},
   "source": [
    "<h1>TUGAS SESI 6<h1>\n"
   ]
  },
  {
   "cell_type": "markdown",
   "id": "ed879ff4",
   "metadata": {},
   "source": [
    "<h2>KONDISI PERCABANGAN<h2>"
   ]
  },
  {
   "cell_type": "markdown",
   "id": "108e262d",
   "metadata": {},
   "source": [
    "   1.Sebuah wahana bermain 'Disney Island' akan memberikan tarif sesuai dengan tinggi dan umur anak dengan ketentuan sebagai berikut:\n",
    "\n",
    "   • Umur kurang dari 2 tahun: Tampilkan 'Dilarang masuk'\n",
    "   • Umur kurang dari 4 tahun: Rp 30.000. Jika tinggi anak umur 2-3 tahun melebihi 70 cm maka tarif akan bertambah 10.000\n",
    "   • Umur kurang dari 7 tahun: Rp 40.000. Jika tinggi anak umur 4-6 tahun melebih 120 cm maka tarif akan bertambah 15.000\n",
    "   • Umur kurang dari 10 tahun: Rp 50.000. Jika tinggi anak umur 8-9 tahun melebih 150 cm maka tarif akan bertambah 20.000\n",
    "   • Umur 10 tahun keatas: Rp 80.000\n",
    "Buatlah program untuk menampilkan tarif harga sesuai umur dan tinggi seorang anak! "
   ]
  },
  {
   "cell_type": "code",
   "execution_count": 1,
   "id": "d46f8c9c",
   "metadata": {},
   "outputs": [
    {
     "name": "stdout",
     "output_type": "stream",
     "text": [
      "Masukan umur anak (tahun) : 1\n",
      "Dilarang masuk!!!!!!!!!!!!\n"
     ]
    }
   ],
   "source": [
    "umur = int(input(\"Masukan umur anak (tahun) : \"))\n",
    "tarifHarga = 0\n",
    "\n",
    "if(umur < 2):\n",
    "    print(\"Dilarang masuk!!!!!!!!!!!!\")\n",
    "else:\n",
    "    tinggiBadan=int(input(\"masukan tinggi badan : \"))\n",
    "    if(umur<4):\n",
    "        harga=30_000\n",
    "        if(tinggi>70):\n",
    "            harga+=10_000\n",
    "    elif(umur>7):\n",
    "        harga=40_000\n",
    "        if(tinggi>120):\n",
    "            harga+=15_000\n",
    "    elif(umur>10):\n",
    "        harga=50_000\n",
    "        if(umur>7 and tinggi>150):\n",
    "            harga+=20_000\n",
    "    else:\n",
    "        harga=80_000\n",
    "        \n",
    "    print(f\"\\nTarifHarga untuk anak umur {umur} tahun dengan tinggi badan {tinggiBadan} cm adalah {tarifHarga} rupiah\")"
   ]
  },
  {
   "cell_type": "markdown",
   "id": "109d82c5",
   "metadata": {},
   "source": [
    "  2.Terdapat sebuah jurnal yang menuliskan teorinya bahwa olahraga dapat membakar kalori yang terkandung dalam tubuh manusia.\n",
    "\n",
    "Hal tersebut berbanding lurus dengan lama waktu yang dilakukan. Berikut ini adalah beberapa teori tersebut:\n",
    "\n",
    "   • Olahraga lari membakar 60 kalori setiap 5 menit\n",
    "   • Olahraga push-up membakar 200 kalori setiap 30 menit\n",
    "   • Olahraga plank membakar 5 kalori selama 1 menit\n",
    "\n",
    "Buatlah program berdasarkan uraian tersebut untuk menghitung berapa jumlah kalori yang terbakar setelah melakukan aktivitas olahraga tersebut dengan ketentuan setiap orang boleh melakukan aktivitasnya lebih dari 1 (satu). "
   ]
  },
  {
   "cell_type": "code",
   "execution_count": 4,
   "id": "b32c6a4b",
   "metadata": {},
   "outputs": [
    {
     "name": "stdout",
     "output_type": "stream",
     "text": [
      "Apakah anda melakukan olahraga lari y/n : y\n",
      "berapa menit?50\n",
      "Apakah anda melakukan olahraga pushUp y/n : n\n",
      "Apakah anda melakukan olahraga plank y/n : y\n",
      "berapa menit?19\n",
      "\n",
      "jumlah kalori yang terbakar adalah 695.0 kalori\n"
     ]
    }
   ],
   "source": [
    "kalori = 0\n",
    "\n",
    "lari = input(\"Apakah anda melakukan olahraga lari y/n : \") == 'y'\n",
    "if(lari):\n",
    "    menit = int(input(\"berapa menit?\"))\n",
    "    kalori +=menit * (60/5) \n",
    "\n",
    "pushUp = input(\"Apakah anda melakukan olahraga pushUp y/n : \") == 'y'   \n",
    "if(pushUp):\n",
    "    menit = int(input(\"berapa menit?\"))\n",
    "    kalori +=menit * (200/30)\n",
    "    \n",
    "\n",
    "plank = input(\"Apakah anda melakukan olahraga plank y/n : \") == 'y'  \n",
    "if(plank):\n",
    "    menit = int(input(\"berapa menit?\"))\n",
    "    kalori +=menit * (5/1)\n",
    "    \n",
    "    \n",
    "print(f\"\\njumlah kalori yang terbakar adalah {kalori} kalori\")"
   ]
  }
 ],
 "metadata": {
  "kernelspec": {
   "display_name": "Python 3 (ipykernel)",
   "language": "python",
   "name": "python3"
  },
  "language_info": {
   "codemirror_mode": {
    "name": "ipython",
    "version": 3
   },
   "file_extension": ".py",
   "mimetype": "text/x-python",
   "name": "python",
   "nbconvert_exporter": "python",
   "pygments_lexer": "ipython3",
   "version": "3.9.12"
  }
 },
 "nbformat": 4,
 "nbformat_minor": 5
}
